{
 "cells": [
  {
   "cell_type": "markdown",
   "id": "1b9c7d81",
   "metadata": {},
   "source": [
    "1. Crear una función llamada imprimir_hola_mundo que imprima por\n",
    "#pantalla el mensaje: “Hola Mundo!”. Llamar a esta función desde el\n",
    "#programa principal."
   ]
  },
  {
   "cell_type": "code",
   "execution_count": null,
   "id": "f754d533",
   "metadata": {},
   "outputs": [
    {
     "name": "stdout",
     "output_type": "stream",
     "text": [
      "Hola Mundo!\n"
     ]
    }
   ],
   "source": [
    "#funcion\n",
    "def imprimir_hola_mundo():\n",
    "    print(\"Hola Mundo!\")\n",
    "\n",
    "#funcion principal\n",
    "imprimir_hola_mundo()"
   ]
  },
  {
   "cell_type": "markdown",
   "id": "3e1edd45",
   "metadata": {},
   "source": [
    "2. Crear una función llamada saludar_usuario(nombre) que reciba\n",
    "como parámetro un nombre y devuelva un saludo personalizado.\n",
    "Por ejemplo, si se llama con saludar_usuario(\"Marcos\"), deberá devolver: “Hola Marcos!”. Llamar a esta función desde el programa\n",
    "principal solicitando el nombre al usuario."
   ]
  },
  {
   "cell_type": "code",
   "execution_count": null,
   "id": "182c035c",
   "metadata": {},
   "outputs": [
    {
     "name": "stdout",
     "output_type": "stream",
     "text": [
      "Hola Martin\n"
     ]
    }
   ],
   "source": [
    "#funcion\n",
    "def saludar_usuario(nombre):\n",
    "    print(f\"Hola {nombre}\")\n",
    "    \n",
    "#funcion principal\n",
    "nombre=\"Martin\"\n",
    "saludar_usuario(nombre)"
   ]
  },
  {
   "cell_type": "markdown",
   "id": "0580b89d",
   "metadata": {},
   "source": [
    "3. Crear una función llamada informacion_personal(nombre, apellido,\n",
    "edad, residencia) que reciba cuatro parámetros e imprima: “Soy\n",
    "[nombre] [apellido], tengo [edad] años y vivo en [residencia]”. Pedir los datos al usuario y llamar a esta función con los valores ingresados.\n"
   ]
  },
  {
   "cell_type": "code",
   "execution_count": 5,
   "id": "9e9aaf03",
   "metadata": {},
   "outputs": [
    {
     "name": "stdout",
     "output_type": "stream",
     "text": [
      "Soy Martin Monzon, tengo 21 años y vivo en Parana\n"
     ]
    }
   ],
   "source": [
    "#funcion\n",
    "def informacion_personal(nombre, apellido, edad, residencia):\n",
    "    print(f\"Soy {nombre} {apellido}, tengo {edad} años y vivo en {residencia}\")\n",
    "\n",
    "#funcion principal\n",
    "nombre=input(\"Dime tu nombre: \")\n",
    "apellido=input(\"Dime tu apellido: \")\n",
    "edad=int(input(\"Dime tu edad: \"))\n",
    "residencia=input(\"Dime donde vives: \")\n",
    "informacion_personal(nombre,apellido,edad,residencia)\n",
    "\n"
   ]
  },
  {
   "cell_type": "markdown",
   "id": "23ccdf08",
   "metadata": {},
   "source": [
    "4. Crear dos funciones: calcular_area_circulo(radio) que reciba el radio como parámetro y devuelva el área del círculo. calcular_perimetro_circulo(radio) que reciba el radio como parámetro y devuelva el perímetro del círculo. Solicitar el radio al usuario y llamar ambas funciones para mostrar los resultados."
   ]
  },
  {
   "cell_type": "code",
   "execution_count": 10,
   "id": "30dab43f",
   "metadata": {},
   "outputs": [
    {
     "name": "stdout",
     "output_type": "stream",
     "text": [
      "El area de su circulo es de 50.24cm2 y el perimetro es de 25.12cm\n"
     ]
    }
   ],
   "source": [
    "#Funciones\n",
    "def calcular_area_circulo(radio):\n",
    "    area=radio*radio*3.14\n",
    "    return area\n",
    "\n",
    "def calcular_perimetro_circulo(radio):\n",
    "    per=radio*2*3.14\n",
    "    return per\n",
    "\n",
    "\n",
    "\n",
    "#Funcion Principal\n",
    "radio=int(input(\"Ingresa el radio de tu circulo: \"))\n",
    "area=calcular_area_circulo(radio)\n",
    "perimetro=calcular_perimetro_circulo(radio)\n",
    "print(f\"El area de su circulo es de {area}cm2 y el perimetro es de {perimetro}cm\")"
   ]
  },
  {
   "cell_type": "markdown",
   "id": "202f7af0",
   "metadata": {},
   "source": [
    "5. Crear una función llamada segundos_a_horas(segundos) que reciba\n",
    "una cantidad de segundos como parámetro y devuelva la cantidad\n",
    "de horas correspondientes. Solicitar al usuario los segundos y mostrar el resultado usando esta función.\n"
   ]
  },
  {
   "cell_type": "code",
   "execution_count": 14,
   "id": "cd2232e3",
   "metadata": {},
   "outputs": [
    {
     "name": "stdout",
     "output_type": "stream",
     "text": [
      "Esos segundos corresponden a 10.06 horas\n"
     ]
    }
   ],
   "source": [
    "#Funciones\n",
    "def segundos_a_horas(segundos):\n",
    "    horas=float(segundos/3600)\n",
    "    return horas\n",
    "\n",
    "#Funcion principal\n",
    "seg=float(input(\"Ingrese una cantidad de segundos: \"))\n",
    "hr=round(segundos_a_horas(seg),2)\n",
    "print(f\"Esos segundos corresponden a {hr} horas\")"
   ]
  },
  {
   "cell_type": "markdown",
   "id": "e1a817cf",
   "metadata": {},
   "source": [
    "6. Crear una función llamada tabla_multiplicar(numero) que reciba un\n",
    "número como parámetro y imprima la tabla de multiplicar de ese\n",
    "número del 1 al 10. Pedir al usuario el número y llamar a la función.\n"
   ]
  },
  {
   "cell_type": "code",
   "execution_count": 23,
   "id": "a8dca9b3",
   "metadata": {},
   "outputs": [
    {
     "name": "stdout",
     "output_type": "stream",
     "text": [
      "7\n",
      "14\n",
      "21\n",
      "28\n",
      "35\n",
      "42\n",
      "49\n",
      "56\n",
      "63\n",
      "70\n"
     ]
    }
   ],
   "source": [
    "#Funcion\n",
    "def tabla_multiplicar(numero):\n",
    " for i in range (1,11):\n",
    "  print(i*numero)\n",
    "\n",
    "#Funcion principal\n",
    "num=int(input(\"Ingrese el numero del que quiera saber su tabla de multiplicar\"))\n",
    "tabla_multiplicar(num)"
   ]
  },
  {
   "cell_type": "markdown",
   "id": "95004679",
   "metadata": {},
   "source": [
    "7. Crear una función llamada operaciones_basicas(a, b) que reciba\n",
    "dos números como parámetros y devuelva una tupla con el resultado de sumarlos, restarlos, multiplicarlos y dividirlos. Mostrar los resultados de forma clara.\n"
   ]
  },
  {
   "cell_type": "code",
   "execution_count": 26,
   "id": "f98777e6",
   "metadata": {},
   "outputs": [
    {
     "name": "stdout",
     "output_type": "stream",
     "text": [
      "Suma=41, Resta=27, Multiplicacion=238, Division=4.86\n"
     ]
    }
   ],
   "source": [
    "#Funciones\n",
    "def operaciones_basicas(a,b):\n",
    "    suma=a+b\n",
    "    resta=a-b\n",
    "    mult=a*b\n",
    "    div=round((a/b),2)\n",
    "    return suma, resta, mult, div\n",
    "\n",
    "#Funcion principal\n",
    "a=34\n",
    "b=7\n",
    "suma, resta, mult, div=operaciones_basicas(a,b)\n",
    "print(f\"Suma={suma}, Resta={resta}, Multiplicacion={mult}, Division={div}\")\n",
    " "
   ]
  },
  {
   "cell_type": "markdown",
   "id": "b3c2b225",
   "metadata": {},
   "source": [
    "8. Crear una función llamada calcular_imc(peso, altura) que reciba el\n",
    "peso en kilogramos y la altura en metros, y devuelva el índice de\n",
    "masa corporal (IMC). Solicitar al usuario los datos y llamar a la función para mostrar el resultado con dos decimales."
   ]
  },
  {
   "cell_type": "code",
   "execution_count": 28,
   "id": "6f5411a3",
   "metadata": {},
   "outputs": [
    {
     "name": "stdout",
     "output_type": "stream",
     "text": [
      "Su indice de masa corporal es de 27.77\n"
     ]
    }
   ],
   "source": [
    "#Funciones\n",
    "def calcular_imc(peso, altura):\n",
    "    imc=round(peso/(altura*altura),2)\n",
    "    print(f\"Su indice de masa corporal es de {imc}\")\n",
    "\n",
    "#Funcion Principal\n",
    "peso=int(input(\"Ingrese su peso en kilogramos: \"))\n",
    "altura=float(input(\"Ingrese su altura en metros: \"))\n",
    "calcular_imc(peso, altura)"
   ]
  },
  {
   "cell_type": "markdown",
   "id": "34b31bed",
   "metadata": {},
   "source": [
    "9. Crear una función llamada celsius_a_fahrenheit(celsius) que reciba\n",
    "una temperatura en grados Celsius y devuelva su equivalente en\n",
    "Fahrenheit. Pedir al usuario la temperatura en Celsius y mostrar el\n",
    "resultado usando la función.\n"
   ]
  },
  {
   "cell_type": "code",
   "execution_count": 30,
   "id": "49e157f8",
   "metadata": {},
   "outputs": [
    {
     "name": "stdout",
     "output_type": "stream",
     "text": [
      "Esos grados representados en fahrenheit son: 68.0\n"
     ]
    }
   ],
   "source": [
    "#Funcion\n",
    "def celsius_a_fahrenheit(celsius):\n",
    "    fahr=(celsius*1.8)+32\n",
    "    print(f\"Esos grados representados en fahrenheit son: {fahr}\")\n",
    "\n",
    "#Funcion principal\n",
    "grados=int(input(\"Ingrese los grados celsius: \"))\n",
    "celsius_a_fahrenheit(grados)\n"
   ]
  },
  {
   "cell_type": "markdown",
   "id": "dadecd0f",
   "metadata": {},
   "source": [
    "10.Crear una función llamada calcular_promedio(a, b, c) que reciba\n",
    "tres números como parámetros y devuelva el promedio de ellos.\n",
    "Solicitar los números al usuario y mostrar el resultado usando esta\n",
    "función."
   ]
  },
  {
   "cell_type": "code",
   "execution_count": 33,
   "id": "ef258014",
   "metadata": {},
   "outputs": [
    {
     "name": "stdout",
     "output_type": "stream",
     "text": [
      "El promedio de estos numeros es de: 3.33\n"
     ]
    }
   ],
   "source": [
    "#Funcion\n",
    "def calcular_promedio(a,b,c):\n",
    "    promedio=round((a+b+c)/3,2)\n",
    "    print(f\"El promedio de estos numeros es de: {promedio}\")\n",
    "\n",
    "#Funcion principal\n",
    "a=int(input(\"Ingrese el nro a:\"))\n",
    "b=int(input(\"Ingrese el nro b:\"))\n",
    "c=int(input(\"Ingrese el nro c:\"))\n",
    "calcular_promedio(a,b,c)"
   ]
  }
 ],
 "metadata": {
  "kernelspec": {
   "display_name": ".venv",
   "language": "python",
   "name": "python3"
  },
  "language_info": {
   "codemirror_mode": {
    "name": "ipython",
    "version": 3
   },
   "file_extension": ".py",
   "mimetype": "text/x-python",
   "name": "python",
   "nbconvert_exporter": "python",
   "pygments_lexer": "ipython3",
   "version": "3.12.10"
  }
 },
 "nbformat": 4,
 "nbformat_minor": 5
}
